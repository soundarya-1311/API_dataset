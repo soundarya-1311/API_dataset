{
 "cells": [
  {
   "cell_type": "code",
   "execution_count": null,
   "id": "8bc899e6",
   "metadata": {},
   "outputs": [],
   "source": [
    "#creating a csv dataset from an API link\n",
    "\n",
    "#importing the required libraries\n",
    "import requests\n",
    "import pandas as pd\n",
    "\n",
    "\n",
    "response = requests.get(\"https://data.binance.com/api/v3/ticker/24hr\")\n",
    "\n",
    "print(response.status_code)\n",
    "#if status code = 200 means okay, otherwise error\n",
    "\n",
    "dataset = response.json()\n",
    "df = pd.DataFrame(dataset)\n",
    "df.to_csv(\"api_dataset.csv\") # the dataset was created.\n"
   ]
  },
  {
   "cell_type": "code",
   "execution_count": null,
   "id": "4cfbe471",
   "metadata": {},
   "outputs": [],
   "source": [
    "#another way\n",
    "import requests\n",
    "import pandas as pd\n",
    "\n",
    "\n",
    "response = requests.get(\"https://data.binance.com/api/v3/ticker/24hr\")\n",
    "\n",
    "print(response.status_code)\n",
    "#if status code = 200 means okay, otherwise error\n",
    "if (response.status_code== 200) :\n",
    "    dataset = response.json()\n",
    "    df = pd.DataFrame(dataset)\n",
    "    df.to_csv(\"api_dataset1.csv\") # the dataset was created.\n",
    "    print(\"the dataset was created successsfully!\")\n",
    "    \n",
    "else:\n",
    "    print(\"the dataset was not created due to error\")"
   ]
  },
  {
   "cell_type": "code",
   "execution_count": null,
   "id": "bb43bbb0",
   "metadata": {},
   "outputs": [],
   "source": []
  },
  {
   "cell_type": "code",
   "execution_count": null,
   "id": "834708bc",
   "metadata": {},
   "outputs": [],
   "source": []
  }
 ],
 "metadata": {
  "kernelspec": {
   "display_name": "Python 3 (ipykernel)",
   "language": "python",
   "name": "python3"
  },
  "language_info": {
   "codemirror_mode": {
    "name": "ipython",
    "version": 3
   },
   "file_extension": ".py",
   "mimetype": "text/x-python",
   "name": "python",
   "nbconvert_exporter": "python",
   "pygments_lexer": "ipython3",
   "version": "3.9.13"
  }
 },
 "nbformat": 4,
 "nbformat_minor": 5
}
